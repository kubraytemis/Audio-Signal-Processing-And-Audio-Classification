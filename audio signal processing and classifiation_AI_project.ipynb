{
 "cells": [
  {
   "cell_type": "code",
   "execution_count": 4,
   "id": "b8f6ebbb",
   "metadata": {},
   "outputs": [
    {
     "name": "stderr",
     "output_type": "stream",
     "text": [
      "C:\\Users\\savas\\anaconda3\\lib\\site-packages\\paramiko\\transport.py:219: CryptographyDeprecationWarning: Blowfish has been deprecated\n",
      "  \"class\": algorithms.Blowfish,\n"
     ]
    }
   ],
   "source": [
    "import matplotlib.pyplot as plt\n",
    "import pandas as pd\n",
    "import os\n",
    "import librosa\n",
    "import numpy as np\n",
    "from tqdm import tqdm\n",
    "from sklearn.model_selection import train_test_split\n",
    "from tensorflow.keras.utils import to_categorical\n",
    "from sklearn.preprocessing import LabelEncoder\n",
    "from tensorflow.keras.models import Sequential\n",
    "from tensorflow.keras.layers import Dense,Dropout,Activation,Flatten\n",
    "from tensorflow.keras.optimizers import Adam\n",
    "from sklearn import metrics\n",
    "from tensorflow.keras.callbacks import ModelCheckpoint\n",
    "from datetime import datetime "
   ]
  },
  {
   "cell_type": "code",
   "execution_count": 5,
   "id": "18ecb45c",
   "metadata": {},
   "outputs": [
    {
     "data": {
      "text/html": [
       "<div>\n",
       "<style scoped>\n",
       "    .dataframe tbody tr th:only-of-type {\n",
       "        vertical-align: middle;\n",
       "    }\n",
       "\n",
       "    .dataframe tbody tr th {\n",
       "        vertical-align: top;\n",
       "    }\n",
       "\n",
       "    .dataframe thead th {\n",
       "        text-align: right;\n",
       "    }\n",
       "</style>\n",
       "<table border=\"1\" class=\"dataframe\">\n",
       "  <thead>\n",
       "    <tr style=\"text-align: right;\">\n",
       "      <th></th>\n",
       "      <th>slice_file_name</th>\n",
       "      <th>fsID</th>\n",
       "      <th>start</th>\n",
       "      <th>end</th>\n",
       "      <th>salience</th>\n",
       "      <th>fold</th>\n",
       "      <th>classID</th>\n",
       "      <th>class</th>\n",
       "    </tr>\n",
       "  </thead>\n",
       "  <tbody>\n",
       "    <tr>\n",
       "      <th>0</th>\n",
       "      <td>100032-3-0-0.wav</td>\n",
       "      <td>100032</td>\n",
       "      <td>0.0</td>\n",
       "      <td>0.317551</td>\n",
       "      <td>1</td>\n",
       "      <td>5</td>\n",
       "      <td>3</td>\n",
       "      <td>dog_bark</td>\n",
       "    </tr>\n",
       "    <tr>\n",
       "      <th>1</th>\n",
       "      <td>100263-2-0-117.wav</td>\n",
       "      <td>100263</td>\n",
       "      <td>58.5</td>\n",
       "      <td>62.500000</td>\n",
       "      <td>1</td>\n",
       "      <td>5</td>\n",
       "      <td>2</td>\n",
       "      <td>children_playing</td>\n",
       "    </tr>\n",
       "    <tr>\n",
       "      <th>2</th>\n",
       "      <td>100263-2-0-121.wav</td>\n",
       "      <td>100263</td>\n",
       "      <td>60.5</td>\n",
       "      <td>64.500000</td>\n",
       "      <td>1</td>\n",
       "      <td>5</td>\n",
       "      <td>2</td>\n",
       "      <td>children_playing</td>\n",
       "    </tr>\n",
       "    <tr>\n",
       "      <th>3</th>\n",
       "      <td>100263-2-0-126.wav</td>\n",
       "      <td>100263</td>\n",
       "      <td>63.0</td>\n",
       "      <td>67.000000</td>\n",
       "      <td>1</td>\n",
       "      <td>5</td>\n",
       "      <td>2</td>\n",
       "      <td>children_playing</td>\n",
       "    </tr>\n",
       "    <tr>\n",
       "      <th>4</th>\n",
       "      <td>100263-2-0-137.wav</td>\n",
       "      <td>100263</td>\n",
       "      <td>68.5</td>\n",
       "      <td>72.500000</td>\n",
       "      <td>1</td>\n",
       "      <td>5</td>\n",
       "      <td>2</td>\n",
       "      <td>children_playing</td>\n",
       "    </tr>\n",
       "  </tbody>\n",
       "</table>\n",
       "</div>"
      ],
      "text/plain": [
       "      slice_file_name    fsID  start        end  salience  fold  classID  \\\n",
       "0    100032-3-0-0.wav  100032    0.0   0.317551         1     5        3   \n",
       "1  100263-2-0-117.wav  100263   58.5  62.500000         1     5        2   \n",
       "2  100263-2-0-121.wav  100263   60.5  64.500000         1     5        2   \n",
       "3  100263-2-0-126.wav  100263   63.0  67.000000         1     5        2   \n",
       "4  100263-2-0-137.wav  100263   68.5  72.500000         1     5        2   \n",
       "\n",
       "              class  \n",
       "0          dog_bark  \n",
       "1  children_playing  \n",
       "2  children_playing  \n",
       "3  children_playing  \n",
       "4  children_playing  "
      ]
     },
     "execution_count": 5,
     "metadata": {},
     "output_type": "execute_result"
    }
   ],
   "source": [
    "audio_dataset_path='UrbanSound8K/audio/'\n",
    "metadata=pd.read_csv('UrbanSound8K/metadata/UrbanSound8K.csv')\n",
    "metadata.head()\n"
   ]
  },
  {
   "cell_type": "code",
   "execution_count": 6,
   "id": "e3bae8c0",
   "metadata": {},
   "outputs": [
    {
     "data": {
      "text/plain": [
       "<AxesSubplot:xlabel='classID', ylabel='count'>"
      ]
     },
     "execution_count": 6,
     "metadata": {},
     "output_type": "execute_result"
    },
    {
     "data": {
      "image/png": "[encoded data removed]",
      "text/plain": [
       "<Figure size 640x480 with 1 Axes>"
      ]
     },
     "metadata": {},
     "output_type": "display_data"
    }
   ],
   "source": [
    "import seaborn as sns\n",
    "sns.countplot(x=metadata.classID)"
   ]
  },
  {
   "cell_type": "code",
   "execution_count": 7,
   "id": "f8c307ed",
   "metadata": {},
   "outputs": [],
   "source": [
    "audio_file_path='UrbanSound8K/17973-2-0-32.wav'\n",
    "\n",
    "librosa_audio_data, librosa_sample_rate = librosa.load(audio_file_path)"
   ]
  },
  {
   "cell_type": "code",
   "execution_count": 8,
   "id": "6789cc9e",
   "metadata": {},
   "outputs": [
    {
     "name": "stdout",
     "output_type": "stream",
     "text": [
      "[ 0.05806023  0.04728271 -0.02169256 ... -0.00860656  0.03410248\n",
      "  0.09018897]\n"
     ]
    }
   ],
   "source": [
    "print(librosa_audio_data)"
   ]
  },
  {
   "cell_type": "code",
   "execution_count": 9,
   "id": "f69036b7",
   "metadata": {},
   "outputs": [
    {
     "data": {
      "image/png": "[encoded data removed]",
      "text/plain": [
       "<Figure size 1200x400 with 1 Axes>"
      ]
     },
     "metadata": {},
     "output_type": "display_data"
    }
   ],
   "source": [
    "plt.figure(figsize=(12, 4))\n",
    "plt.plot(librosa_audio_data)\n",
    "plt.show()"
   ]
  },
  {
   "cell_type": "code",
   "execution_count": 10,
   "id": "d392716a",
   "metadata": {},
   "outputs": [
    {
     "name": "stdout",
     "output_type": "stream",
     "text": [
      "(20, 173)\n"
     ]
    }
   ],
   "source": [
    "mfccs = librosa.feature.mfcc(y=librosa_audio_data, sr=librosa_sample_rate, n_mfcc=20)   #n_mfcc: number of MFCCs to return \n",
    "print(mfccs.shape)"
   ]
  },
  {
   "cell_type": "code",
   "execution_count": 11,
   "id": "7858d6d9",
   "metadata": {},
   "outputs": [
    {
     "data": {
      "text/html": [
       "<div>\n",
       "<style scoped>\n",
       "    .dataframe tbody tr th:only-of-type {\n",
       "        vertical-align: middle;\n",
       "    }\n",
       "\n",
       "    .dataframe tbody tr th {\n",
       "        vertical-align: top;\n",
       "    }\n",
       "\n",
       "    .dataframe thead th {\n",
       "        text-align: right;\n",
       "    }\n",
       "</style>\n",
       "<table border=\"1\" class=\"dataframe\">\n",
       "  <thead>\n",
       "    <tr style=\"text-align: right;\">\n",
       "      <th></th>\n",
       "      <th>slice_file_name</th>\n",
       "      <th>fsID</th>\n",
       "      <th>start</th>\n",
       "      <th>end</th>\n",
       "      <th>salience</th>\n",
       "      <th>fold</th>\n",
       "      <th>classID</th>\n",
       "      <th>class</th>\n",
       "    </tr>\n",
       "  </thead>\n",
       "  <tbody>\n",
       "    <tr>\n",
       "      <th>0</th>\n",
       "      <td>100032-3-0-0.wav</td>\n",
       "      <td>100032</td>\n",
       "      <td>0.0</td>\n",
       "      <td>0.317551</td>\n",
       "      <td>1</td>\n",
       "      <td>5</td>\n",
       "      <td>3</td>\n",
       "      <td>dog_bark</td>\n",
       "    </tr>\n",
       "    <tr>\n",
       "      <th>1</th>\n",
       "      <td>100263-2-0-117.wav</td>\n",
       "      <td>100263</td>\n",
       "      <td>58.5</td>\n",
       "      <td>62.500000</td>\n",
       "      <td>1</td>\n",
       "      <td>5</td>\n",
       "      <td>2</td>\n",
       "      <td>children_playing</td>\n",
       "    </tr>\n",
       "    <tr>\n",
       "      <th>2</th>\n",
       "      <td>100263-2-0-121.wav</td>\n",
       "      <td>100263</td>\n",
       "      <td>60.5</td>\n",
       "      <td>64.500000</td>\n",
       "      <td>1</td>\n",
       "      <td>5</td>\n",
       "      <td>2</td>\n",
       "      <td>children_playing</td>\n",
       "    </tr>\n",
       "    <tr>\n",
       "      <th>3</th>\n",
       "      <td>100263-2-0-126.wav</td>\n",
       "      <td>100263</td>\n",
       "      <td>63.0</td>\n",
       "      <td>67.000000</td>\n",
       "      <td>1</td>\n",
       "      <td>5</td>\n",
       "      <td>2</td>\n",
       "      <td>children_playing</td>\n",
       "    </tr>\n",
       "    <tr>\n",
       "      <th>4</th>\n",
       "      <td>100263-2-0-137.wav</td>\n",
       "      <td>100263</td>\n",
       "      <td>68.5</td>\n",
       "      <td>72.500000</td>\n",
       "      <td>1</td>\n",
       "      <td>5</td>\n",
       "      <td>2</td>\n",
       "      <td>children_playing</td>\n",
       "    </tr>\n",
       "  </tbody>\n",
       "</table>\n",
       "</div>"
      ],
      "text/plain": [
       "      slice_file_name    fsID  start        end  salience  fold  classID  \\\n",
       "0    100032-3-0-0.wav  100032    0.0   0.317551         1     5        3   \n",
       "1  100263-2-0-117.wav  100263   58.5  62.500000         1     5        2   \n",
       "2  100263-2-0-121.wav  100263   60.5  64.500000         1     5        2   \n",
       "3  100263-2-0-126.wav  100263   63.0  67.000000         1     5        2   \n",
       "4  100263-2-0-137.wav  100263   68.5  72.500000         1     5        2   \n",
       "\n",
       "              class  \n",
       "0          dog_bark  \n",
       "1  children_playing  \n",
       "2  children_playing  \n",
       "3  children_playing  \n",
       "4  children_playing  "
      ]
     },
     "execution_count": 11,
     "metadata": {},
     "output_type": "execute_result"
    }
   ],
   "source": [
    "audio_dataset_path='UrbanSound8K/audio/'\n",
    "metadata=pd.read_csv('UrbanSound8K/metadata/UrbanSound8K.csv')\n",
    "metadata.head()"
   ]
  },
  {
   "cell_type": "code",
   "execution_count": 12,
   "id": "7dad9dc6",
   "metadata": {},
   "outputs": [],
   "source": [
    "def features_extractor(filename):\n",
    "    audio, sample_rate = librosa.load(filename, res_type='kaiser_fast') \n",
    "    mfccs_features = librosa.feature.mfcc(y=audio, sr=sample_rate, n_mfcc=20)\n",
    "    mfccs_scaled_features = np.mean(mfccs_features.T,axis=0)\n",
    "    \n",
    "    return mfccs_scaled_features"
   ]
  },
  {
   "cell_type": "code",
   "execution_count": 13,
   "id": "be6bab95",
   "metadata": {},
   "outputs": [
    {
     "name": "stderr",
     "output_type": "stream",
     "text": [
      "3554it [05:47, 10.32it/s]C:\\Users\\savas\\anaconda3\\lib\\site-packages\\librosa\\util\\decorators.py:88: UserWarning: n_fft=2048 is too small for input signal of length=1323\n",
      "  return f(*args, **kwargs)\n",
      "8323it [12:47, 20.33it/s]C:\\Users\\savas\\anaconda3\\lib\\site-packages\\librosa\\util\\decorators.py:88: UserWarning: n_fft=2048 is too small for input signal of length=1103\n",
      "  return f(*args, **kwargs)\n",
      "8328it [12:47, 26.74it/s]C:\\Users\\savas\\anaconda3\\lib\\site-packages\\librosa\\util\\decorators.py:88: UserWarning: n_fft=2048 is too small for input signal of length=1523\n",
      "  return f(*args, **kwargs)\n",
      "8732it [13:14, 11.00it/s]\n"
     ]
    }
   ],
   "source": [
    "extracted_features=[]\n",
    "for index_num,row in tqdm(metadata.iterrows()):\n",
    "    file_name = os.path.join(os.path.abspath(audio_dataset_path),'fold'+str(row[\"fold\"])+'/',str(row[\"slice_file_name\"]))\n",
    "    final_class_labels=row[\"class\"]\n",
    "    data=features_extractor(file_name)\n",
    "    extracted_features.append([data,final_class_labels])"
   ]
  },
  {
   "cell_type": "code",
   "execution_count": 14,
   "id": "47b210c5",
   "metadata": {},
   "outputs": [
    {
     "data": {
      "text/html": [
       "<div>\n",
       "<style scoped>\n",
       "    .dataframe tbody tr th:only-of-type {\n",
       "        vertical-align: middle;\n",
       "    }\n",
       "\n",
       "    .dataframe tbody tr th {\n",
       "        vertical-align: top;\n",
       "    }\n",
       "\n",
       "    .dataframe thead th {\n",
       "        text-align: right;\n",
       "    }\n",
       "</style>\n",
       "<table border=\"1\" class=\"dataframe\">\n",
       "  <thead>\n",
       "    <tr style=\"text-align: right;\">\n",
       "      <th></th>\n",
       "      <th>feature</th>\n",
       "      <th>class</th>\n",
       "    </tr>\n",
       "  </thead>\n",
       "  <tbody>\n",
       "    <tr>\n",
       "      <th>0</th>\n",
       "      <td>[-217.35526, 70.22338, -130.38527, -53.282898,...</td>\n",
       "      <td>dog_bark</td>\n",
       "    </tr>\n",
       "    <tr>\n",
       "      <th>1</th>\n",
       "      <td>[-424.09818, 109.34077, -52.919525, 60.86475, ...</td>\n",
       "      <td>children_playing</td>\n",
       "    </tr>\n",
       "    <tr>\n",
       "      <th>2</th>\n",
       "      <td>[-458.79114, 121.38419, -46.520657, 52.00812, ...</td>\n",
       "      <td>children_playing</td>\n",
       "    </tr>\n",
       "    <tr>\n",
       "      <th>3</th>\n",
       "      <td>[-413.89984, 101.66373, -35.42945, 53.036358, ...</td>\n",
       "      <td>children_playing</td>\n",
       "    </tr>\n",
       "    <tr>\n",
       "      <th>4</th>\n",
       "      <td>[-446.60352, 113.68541, -52.402206, 60.302044,...</td>\n",
       "      <td>children_playing</td>\n",
       "    </tr>\n",
       "  </tbody>\n",
       "</table>\n",
       "</div>"
      ],
      "text/plain": [
       "                                             feature             class\n",
       "0  [-217.35526, 70.22338, -130.38527, -53.282898,...          dog_bark\n",
       "1  [-424.09818, 109.34077, -52.919525, 60.86475, ...  children_playing\n",
       "2  [-458.79114, 121.38419, -46.520657, 52.00812, ...  children_playing\n",
       "3  [-413.89984, 101.66373, -35.42945, 53.036358, ...  children_playing\n",
       "4  [-446.60352, 113.68541, -52.402206, 60.302044,...  children_playing"
      ]
     },
     "execution_count": 14,
     "metadata": {},
     "output_type": "execute_result"
    }
   ],
   "source": [
    "extracted_features_df = pd.DataFrame(extracted_features,columns=['feature','class'])\n",
    "extracted_features_df.head()"
   ]
  },
  {
   "cell_type": "code",
   "execution_count": 15,
   "id": "e614af70",
   "metadata": {},
   "outputs": [],
   "source": [
    "X=np.array(extracted_features_df['feature'].tolist())\n",
    "y=np.array(extracted_features_df['class'].tolist())"
   ]
  },
  {
   "cell_type": "code",
   "execution_count": 16,
   "id": "75cd504d",
   "metadata": {},
   "outputs": [],
   "source": [
    "labelencoder=LabelEncoder()\n",
    "y=to_categorical(labelencoder.fit_transform(y))"
   ]
  },
  {
   "cell_type": "code",
   "execution_count": 17,
   "id": "a5d42b2c",
   "metadata": {},
   "outputs": [],
   "source": [
    "X_train,X_test,y_train,y_test=train_test_split(X,y,test_size=0.2,random_state=0)"
   ]
  },
  {
   "cell_type": "code",
   "execution_count": 18,
   "id": "d8b2b473",
   "metadata": {},
   "outputs": [
    {
     "data": {
      "text/plain": [
       "array([5, 1, 4, ..., 1, 2, 2], dtype=int64)"
      ]
     },
     "execution_count": 18,
     "metadata": {},
     "output_type": "execute_result"
    }
   ],
   "source": [
    "y_test.argmax(axis=1)"
   ]
  },
  {
   "cell_type": "markdown",
   "id": "d8c5d8a8",
   "metadata": {},
   "source": [
    "# Convolutional Neural Networks (CNN)"
   ]
  },
  {
   "cell_type": "code",
   "execution_count": 19,
   "id": "ba379af9",
   "metadata": {},
   "outputs": [],
   "source": [
    "num_labels = 10"
   ]
  },
  {
   "cell_type": "code",
   "execution_count": 20,
   "id": "2aa1cde5",
   "metadata": {},
   "outputs": [],
   "source": [
    "model=Sequential()\n",
    "# 1. hidden layer\n",
    "model.add(Dense(125,input_shape=(20,)))\n",
    "model.add(Activation('relu'))\n",
    "model.add(Dropout(0.5))\n",
    "# 2. hidden layer\n",
    "model.add(Dense(250))\n",
    "model.add(Activation('relu'))\n",
    "model.add(Dropout(0.5))\n",
    "# 3. hidden layer\n",
    "model.add(Dense(125))\n",
    "model.add(Activation('relu'))\n",
    "model.add(Dropout(0.5))\n",
    "\n",
    "# output layer\n",
    "model.add(Dense(num_labels))\n",
    "model.add(Activation('softmax'))"
   ]
  },
  {
   "cell_type": "code",
   "execution_count": 21,
   "id": "e4849018",
   "metadata": {},
   "outputs": [
    {
     "name": "stdout",
     "output_type": "stream",
     "text": [
      "Model: \"sequential\"\n",
      "_________________________________________________________________\n",
      " Layer (type)                Output Shape              Param #   \n",
      "=================================================================\n",
      " dense (Dense)               (None, 125)               2625      \n",
      "                                                                 \n",
      " activation (Activation)     (None, 125)               0         \n",
      "                                                                 \n",
      " dropout (Dropout)           (None, 125)               0         \n",
      "                                                                 \n",
      " dense_1 (Dense)             (None, 250)               31500     \n",
      "                                                                 \n",
      " activation_1 (Activation)   (None, 250)               0         \n",
      "                                                                 \n",
      " dropout_1 (Dropout)         (None, 250)               0         \n",
      "                                                                 \n",
      " dense_2 (Dense)             (None, 125)               31375     \n",
      "                                                                 \n",
      " activation_2 (Activation)   (None, 125)               0         \n",
      "                                                                 \n",
      " dropout_2 (Dropout)         (None, 125)               0         \n",
      "                                                                 \n",
      " dense_3 (Dense)             (None, 10)                1260      \n",
      "                                                                 \n",
      " activation_3 (Activation)   (None, 10)                0         \n",
      "                                                                 \n",
      "=================================================================\n",
      "Total params: 66,760\n",
      "Trainable params: 66,760\n",
      "Non-trainable params: 0\n",
      "_________________________________________________________________\n"
     ]
    }
   ],
   "source": [
    "model.summary()"
   ]
  },
  {
   "cell_type": "code",
   "execution_count": 22,
   "id": "75cca9ce",
   "metadata": {},
   "outputs": [],
   "source": [
    "model.compile(loss='categorical_crossentropy', metrics=['accuracy'], optimizer='adam')"
   ]
  },
  {
   "cell_type": "code",
   "execution_count": 23,
   "id": "7448d68b",
   "metadata": {},
   "outputs": [
    {
     "name": "stdout",
     "output_type": "stream",
     "text": [
      "Epoch 1/300\n",
      "219/219 [==============================] - 2s 6ms/step - loss: 9.6228 - accuracy: 0.1211 - val_loss: 2.2931 - val_accuracy: 0.1110\n",
      "Epoch 2/300\n",
      "219/219 [==============================] - 1s 5ms/step - loss: 2.5011 - accuracy: 0.1183 - val_loss: 2.2805 - val_accuracy: 0.1156\n",
      "Epoch 3/300\n",
      "219/219 [==============================] - 1s 5ms/step - loss: 2.3113 - accuracy: 0.1270 - val_loss: 2.2254 - val_accuracy: 0.1305\n",
      "Epoch 4/300\n",
      "219/219 [==============================] - 1s 5ms/step - loss: 2.2269 - accuracy: 0.1493 - val_loss: 2.1659 - val_accuracy: 0.1797\n",
      "Epoch 5/300\n",
      "219/219 [==============================] - 1s 5ms/step - loss: 2.1761 - accuracy: 0.1764 - val_loss: 2.1166 - val_accuracy: 0.1958\n",
      "Epoch 6/300\n",
      "219/219 [==============================] - 1s 5ms/step - loss: 2.1375 - accuracy: 0.1893 - val_loss: 2.0076 - val_accuracy: 0.2444\n",
      "Epoch 7/300\n",
      "219/219 [==============================] - 1s 5ms/step - loss: 2.0787 - accuracy: 0.2145 - val_loss: 1.9533 - val_accuracy: 0.2770\n",
      "Epoch 8/300\n",
      "219/219 [==============================] - 1s 5ms/step - loss: 2.0583 - accuracy: 0.2268 - val_loss: 1.9286 - val_accuracy: 0.2799\n",
      "Epoch 9/300\n",
      "219/219 [==============================] - 1s 5ms/step - loss: 2.0101 - accuracy: 0.2424 - val_loss: 1.8726 - val_accuracy: 0.3051\n",
      "Epoch 10/300\n",
      "219/219 [==============================] - 1s 5ms/step - loss: 1.9717 - accuracy: 0.2517 - val_loss: 1.8189 - val_accuracy: 0.3171\n",
      "Epoch 11/300\n",
      "219/219 [==============================] - 1s 5ms/step - loss: 1.9251 - accuracy: 0.2780 - val_loss: 1.7826 - val_accuracy: 0.3681\n",
      "Epoch 12/300\n",
      "219/219 [==============================] - 1s 5ms/step - loss: 1.9118 - accuracy: 0.2883 - val_loss: 1.7729 - val_accuracy: 0.3801\n",
      "Epoch 13/300\n",
      "219/219 [==============================] - 1s 5ms/step - loss: 1.8762 - accuracy: 0.3147 - val_loss: 1.6828 - val_accuracy: 0.4058\n",
      "Epoch 14/300\n",
      "219/219 [==============================] - 1s 5ms/step - loss: 1.8241 - accuracy: 0.3475 - val_loss: 1.6451 - val_accuracy: 0.4224\n",
      "Epoch 15/300\n",
      "219/219 [==============================] - 1s 5ms/step - loss: 1.7950 - accuracy: 0.3508 - val_loss: 1.6072 - val_accuracy: 0.4556\n",
      "Epoch 16/300\n",
      "219/219 [==============================] - 1s 5ms/step - loss: 1.7376 - accuracy: 0.3777 - val_loss: 1.5237 - val_accuracy: 0.5089\n",
      "Epoch 17/300\n",
      "219/219 [==============================] - 1s 5ms/step - loss: 1.6994 - accuracy: 0.3944 - val_loss: 1.4936 - val_accuracy: 0.5123\n",
      "Epoch 18/300\n",
      "219/219 [==============================] - 1s 4ms/step - loss: 1.6664 - accuracy: 0.4007 - val_loss: 1.4485 - val_accuracy: 0.5266\n",
      "Epoch 19/300\n",
      "219/219 [==============================] - 1s 4ms/step - loss: 1.6210 - accuracy: 0.4275 - val_loss: 1.3853 - val_accuracy: 0.5363\n",
      "Epoch 20/300\n",
      "219/219 [==============================] - 1s 4ms/step - loss: 1.5908 - accuracy: 0.4444 - val_loss: 1.3736 - val_accuracy: 0.5535\n",
      "Epoch 21/300\n",
      "219/219 [==============================] - 1s 4ms/step - loss: 1.5491 - accuracy: 0.4530 - val_loss: 1.3424 - val_accuracy: 0.5638\n",
      "Epoch 22/300\n",
      "219/219 [==============================] - 1s 4ms/step - loss: 1.5214 - accuracy: 0.4663 - val_loss: 1.3284 - val_accuracy: 0.5667\n",
      "Epoch 23/300\n",
      "219/219 [==============================] - 1s 4ms/step - loss: 1.5088 - accuracy: 0.4709 - val_loss: 1.2733 - val_accuracy: 0.5930\n",
      "Epoch 24/300\n",
      "219/219 [==============================] - 1s 4ms/step - loss: 1.4776 - accuracy: 0.4909 - val_loss: 1.2296 - val_accuracy: 0.6022\n",
      "Epoch 25/300\n",
      "219/219 [==============================] - 1s 4ms/step - loss: 1.4443 - accuracy: 0.5045 - val_loss: 1.2126 - val_accuracy: 0.6073\n",
      "Epoch 26/300\n",
      "219/219 [==============================] - 1s 4ms/step - loss: 1.4271 - accuracy: 0.5104 - val_loss: 1.2048 - val_accuracy: 0.6256\n",
      "Epoch 27/300\n",
      "219/219 [==============================] - 1s 4ms/step - loss: 1.4194 - accuracy: 0.5110 - val_loss: 1.1871 - val_accuracy: 0.6193\n",
      "Epoch 28/300\n",
      "219/219 [==============================] - 1s 4ms/step - loss: 1.3989 - accuracy: 0.5134 - val_loss: 1.1982 - val_accuracy: 0.6199\n",
      "Epoch 29/300\n",
      "219/219 [==============================] - 1s 4ms/step - loss: 1.3720 - accuracy: 0.5268 - val_loss: 1.1503 - val_accuracy: 0.6268\n",
      "Epoch 30/300\n",
      "219/219 [==============================] - 1s 4ms/step - loss: 1.3652 - accuracy: 0.5330 - val_loss: 1.1209 - val_accuracy: 0.6382\n",
      "Epoch 31/300\n",
      "219/219 [==============================] - 1s 4ms/step - loss: 1.3561 - accuracy: 0.5420 - val_loss: 1.1266 - val_accuracy: 0.6371\n",
      "Epoch 32/300\n",
      "219/219 [==============================] - 1s 4ms/step - loss: 1.3440 - accuracy: 0.5394 - val_loss: 1.1118 - val_accuracy: 0.6434\n",
      "Epoch 33/300\n",
      "219/219 [==============================] - 1s 4ms/step - loss: 1.3230 - accuracy: 0.5513 - val_loss: 1.1040 - val_accuracy: 0.6394\n",
      "Epoch 34/300\n",
      "219/219 [==============================] - 1s 4ms/step - loss: 1.3177 - accuracy: 0.5475 - val_loss: 1.1078 - val_accuracy: 0.6566\n",
      "Epoch 35/300\n",
      "219/219 [==============================] - 1s 4ms/step - loss: 1.3044 - accuracy: 0.5563 - val_loss: 1.0876 - val_accuracy: 0.6463\n",
      "Epoch 36/300\n",
      "219/219 [==============================] - 1s 4ms/step - loss: 1.2711 - accuracy: 0.5664 - val_loss: 1.0586 - val_accuracy: 0.6548\n",
      "Epoch 37/300\n",
      "219/219 [==============================] - 1s 4ms/step - loss: 1.2736 - accuracy: 0.5662 - val_loss: 1.0725 - val_accuracy: 0.6474\n",
      "Epoch 38/300\n",
      "219/219 [==============================] - 1s 4ms/step - loss: 1.2602 - accuracy: 0.5678 - val_loss: 1.0467 - val_accuracy: 0.6514\n",
      "Epoch 39/300\n",
      "219/219 [==============================] - 1s 4ms/step - loss: 1.2520 - accuracy: 0.5751 - val_loss: 1.0558 - val_accuracy: 0.6491\n",
      "Epoch 40/300\n",
      "219/219 [==============================] - 1s 4ms/step - loss: 1.2427 - accuracy: 0.5781 - val_loss: 1.0440 - val_accuracy: 0.6514\n",
      "Epoch 41/300\n",
      "219/219 [==============================] - 1s 4ms/step - loss: 1.2350 - accuracy: 0.5770 - val_loss: 1.0561 - val_accuracy: 0.6491\n",
      "Epoch 42/300\n",
      "219/219 [==============================] - 1s 4ms/step - loss: 1.2388 - accuracy: 0.5738 - val_loss: 1.0186 - val_accuracy: 0.6611\n",
      "Epoch 43/300\n",
      "219/219 [==============================] - 1s 4ms/step - loss: 1.2294 - accuracy: 0.5790 - val_loss: 1.0438 - val_accuracy: 0.6485\n",
      "Epoch 44/300\n",
      "219/219 [==============================] - 1s 4ms/step - loss: 1.2053 - accuracy: 0.5891 - val_loss: 0.9841 - val_accuracy: 0.6772\n",
      "Epoch 45/300\n",
      "219/219 [==============================] - 1s 4ms/step - loss: 1.1908 - accuracy: 0.5858 - val_loss: 1.0212 - val_accuracy: 0.6629\n",
      "Epoch 46/300\n",
      "219/219 [==============================] - 1s 4ms/step - loss: 1.2163 - accuracy: 0.5850 - val_loss: 1.0128 - val_accuracy: 0.6548\n",
      "Epoch 47/300\n",
      "219/219 [==============================] - 1s 4ms/step - loss: 1.1923 - accuracy: 0.5921 - val_loss: 0.9909 - val_accuracy: 0.6680\n",
      "Epoch 48/300\n",
      "219/219 [==============================] - 1s 4ms/step - loss: 1.1792 - accuracy: 0.5927 - val_loss: 0.9603 - val_accuracy: 0.6789\n",
      "Epoch 49/300\n",
      "219/219 [==============================] - 1s 4ms/step - loss: 1.1830 - accuracy: 0.5967 - val_loss: 0.9821 - val_accuracy: 0.6749\n",
      "Epoch 50/300\n",
      "219/219 [==============================] - 1s 4ms/step - loss: 1.1938 - accuracy: 0.5943 - val_loss: 0.9815 - val_accuracy: 0.6846\n",
      "Epoch 51/300\n",
      "219/219 [==============================] - 1s 5ms/step - loss: 1.1676 - accuracy: 0.5989 - val_loss: 0.9513 - val_accuracy: 0.6875\n",
      "Epoch 52/300\n",
      "219/219 [==============================] - 1s 5ms/step - loss: 1.1752 - accuracy: 0.5946 - val_loss: 0.9516 - val_accuracy: 0.6880\n",
      "Epoch 53/300\n",
      "219/219 [==============================] - 1s 4ms/step - loss: 1.1614 - accuracy: 0.6046 - val_loss: 0.9728 - val_accuracy: 0.6777\n",
      "Epoch 54/300\n",
      "219/219 [==============================] - 1s 4ms/step - loss: 1.1324 - accuracy: 0.6039 - val_loss: 0.9348 - val_accuracy: 0.6909\n",
      "Epoch 55/300\n",
      "219/219 [==============================] - 1s 4ms/step - loss: 1.1571 - accuracy: 0.6013 - val_loss: 0.9710 - val_accuracy: 0.6852\n",
      "Epoch 56/300\n",
      "219/219 [==============================] - 1s 4ms/step - loss: 1.1403 - accuracy: 0.6115 - val_loss: 0.9479 - val_accuracy: 0.6840\n",
      "Epoch 57/300\n",
      "219/219 [==============================] - 1s 5ms/step - loss: 1.1393 - accuracy: 0.6067 - val_loss: 0.9267 - val_accuracy: 0.6852\n"
     ]
    },
    {
     "name": "stdout",
     "output_type": "stream",
     "text": [
      "Epoch 58/300\n",
      "219/219 [==============================] - 1s 5ms/step - loss: 1.1418 - accuracy: 0.6132 - val_loss: 0.9450 - val_accuracy: 0.6823\n",
      "Epoch 59/300\n",
      "219/219 [==============================] - 1s 5ms/step - loss: 1.1372 - accuracy: 0.6117 - val_loss: 0.9245 - val_accuracy: 0.6995\n",
      "Epoch 60/300\n",
      "219/219 [==============================] - 1s 5ms/step - loss: 1.1168 - accuracy: 0.6142 - val_loss: 0.8911 - val_accuracy: 0.7167\n",
      "Epoch 61/300\n",
      "219/219 [==============================] - 1s 5ms/step - loss: 1.1491 - accuracy: 0.6166 - val_loss: 0.9131 - val_accuracy: 0.6949\n",
      "Epoch 62/300\n",
      "219/219 [==============================] - 1s 5ms/step - loss: 1.1296 - accuracy: 0.6176 - val_loss: 0.9159 - val_accuracy: 0.6966\n",
      "Epoch 63/300\n",
      "219/219 [==============================] - 1s 5ms/step - loss: 1.1206 - accuracy: 0.6163 - val_loss: 0.8930 - val_accuracy: 0.7092\n",
      "Epoch 64/300\n",
      "219/219 [==============================] - 1s 5ms/step - loss: 1.1044 - accuracy: 0.6269 - val_loss: 0.9055 - val_accuracy: 0.7035\n",
      "Epoch 65/300\n",
      "219/219 [==============================] - 1s 6ms/step - loss: 1.0963 - accuracy: 0.6229 - val_loss: 0.9181 - val_accuracy: 0.7006\n",
      "Epoch 66/300\n",
      "219/219 [==============================] - 1s 5ms/step - loss: 1.1184 - accuracy: 0.6139 - val_loss: 0.9086 - val_accuracy: 0.7006\n",
      "Epoch 67/300\n",
      "219/219 [==============================] - 1s 5ms/step - loss: 1.1005 - accuracy: 0.6208 - val_loss: 0.9225 - val_accuracy: 0.6892\n",
      "Epoch 68/300\n",
      "219/219 [==============================] - 1s 5ms/step - loss: 1.0908 - accuracy: 0.6319 - val_loss: 0.9022 - val_accuracy: 0.7127\n",
      "Epoch 69/300\n",
      "219/219 [==============================] - 1s 5ms/step - loss: 1.1057 - accuracy: 0.6238 - val_loss: 0.8776 - val_accuracy: 0.7161\n",
      "Epoch 70/300\n",
      "219/219 [==============================] - 1s 5ms/step - loss: 1.0982 - accuracy: 0.6282 - val_loss: 0.8850 - val_accuracy: 0.6989\n",
      "Epoch 71/300\n",
      "219/219 [==============================] - 1s 5ms/step - loss: 1.0872 - accuracy: 0.6269 - val_loss: 0.8753 - val_accuracy: 0.7235\n",
      "Epoch 72/300\n",
      "219/219 [==============================] - 1s 5ms/step - loss: 1.0769 - accuracy: 0.6276 - val_loss: 0.8700 - val_accuracy: 0.7104\n",
      "Epoch 73/300\n",
      "219/219 [==============================] - 1s 5ms/step - loss: 1.0799 - accuracy: 0.6265 - val_loss: 0.8762 - val_accuracy: 0.7109\n",
      "Epoch 74/300\n",
      "219/219 [==============================] - 1s 5ms/step - loss: 1.1012 - accuracy: 0.6226 - val_loss: 0.8609 - val_accuracy: 0.7086\n",
      "Epoch 75/300\n",
      "219/219 [==============================] - 1s 4ms/step - loss: 1.0766 - accuracy: 0.6273 - val_loss: 0.8648 - val_accuracy: 0.7189\n",
      "Epoch 76/300\n",
      "219/219 [==============================] - 1s 5ms/step - loss: 1.0952 - accuracy: 0.6305 - val_loss: 0.8758 - val_accuracy: 0.7241\n",
      "Epoch 77/300\n",
      "219/219 [==============================] - 1s 4ms/step - loss: 1.0840 - accuracy: 0.6354 - val_loss: 0.8688 - val_accuracy: 0.7241\n",
      "Epoch 78/300\n",
      "219/219 [==============================] - 1s 5ms/step - loss: 1.0635 - accuracy: 0.6295 - val_loss: 0.8872 - val_accuracy: 0.7275\n",
      "Epoch 79/300\n",
      "219/219 [==============================] - 1s 5ms/step - loss: 1.0838 - accuracy: 0.6319 - val_loss: 0.8753 - val_accuracy: 0.7264\n",
      "Epoch 80/300\n",
      "219/219 [==============================] - 1s 5ms/step - loss: 1.0555 - accuracy: 0.6387 - val_loss: 0.8788 - val_accuracy: 0.7258\n",
      "Epoch 81/300\n",
      "219/219 [==============================] - 1s 5ms/step - loss: 1.0784 - accuracy: 0.6296 - val_loss: 0.8648 - val_accuracy: 0.7029\n",
      "Epoch 82/300\n",
      "219/219 [==============================] - 1s 5ms/step - loss: 1.0840 - accuracy: 0.6346 - val_loss: 0.8622 - val_accuracy: 0.7167\n",
      "Epoch 83/300\n",
      "219/219 [==============================] - 1s 5ms/step - loss: 1.0713 - accuracy: 0.6411 - val_loss: 0.8862 - val_accuracy: 0.7132\n",
      "Epoch 84/300\n",
      "219/219 [==============================] - 1s 5ms/step - loss: 1.0706 - accuracy: 0.6309 - val_loss: 0.8600 - val_accuracy: 0.7327\n",
      "Epoch 85/300\n",
      "219/219 [==============================] - 1s 4ms/step - loss: 1.0544 - accuracy: 0.6442 - val_loss: 0.8417 - val_accuracy: 0.7235\n",
      "Epoch 86/300\n",
      "219/219 [==============================] - 1s 5ms/step - loss: 1.0743 - accuracy: 0.6334 - val_loss: 0.8759 - val_accuracy: 0.7178\n",
      "Epoch 87/300\n",
      "219/219 [==============================] - 1s 5ms/step - loss: 1.0501 - accuracy: 0.6348 - val_loss: 0.8702 - val_accuracy: 0.7178\n",
      "Epoch 88/300\n",
      "219/219 [==============================] - 1s 4ms/step - loss: 1.0525 - accuracy: 0.6399 - val_loss: 0.8377 - val_accuracy: 0.7241\n",
      "Epoch 89/300\n",
      "219/219 [==============================] - 1s 4ms/step - loss: 1.0648 - accuracy: 0.6356 - val_loss: 0.8495 - val_accuracy: 0.7287\n",
      "Epoch 90/300\n",
      "219/219 [==============================] - 1s 4ms/step - loss: 1.0709 - accuracy: 0.6374 - val_loss: 0.8665 - val_accuracy: 0.7235\n",
      "Epoch 91/300\n",
      "219/219 [==============================] - 1s 4ms/step - loss: 1.0328 - accuracy: 0.6492 - val_loss: 0.8424 - val_accuracy: 0.7189\n",
      "Epoch 92/300\n",
      "219/219 [==============================] - 1s 4ms/step - loss: 1.0261 - accuracy: 0.6533 - val_loss: 0.8344 - val_accuracy: 0.7189\n",
      "Epoch 93/300\n",
      "219/219 [==============================] - 1s 5ms/step - loss: 1.0466 - accuracy: 0.6408 - val_loss: 0.8383 - val_accuracy: 0.7218\n",
      "Epoch 94/300\n",
      "219/219 [==============================] - 1s 5ms/step - loss: 1.0386 - accuracy: 0.6448 - val_loss: 0.8271 - val_accuracy: 0.7373\n",
      "Epoch 95/300\n",
      "219/219 [==============================] - 1s 5ms/step - loss: 1.0406 - accuracy: 0.6346 - val_loss: 0.8371 - val_accuracy: 0.7275\n",
      "Epoch 96/300\n",
      "219/219 [==============================] - 1s 5ms/step - loss: 1.0377 - accuracy: 0.6464 - val_loss: 0.8435 - val_accuracy: 0.7338\n",
      "Epoch 97/300\n",
      "219/219 [==============================] - 1s 5ms/step - loss: 1.0349 - accuracy: 0.6490 - val_loss: 0.8484 - val_accuracy: 0.7167\n",
      "Epoch 98/300\n",
      "219/219 [==============================] - 1s 5ms/step - loss: 1.0132 - accuracy: 0.6544 - val_loss: 0.8275 - val_accuracy: 0.7287\n",
      "Epoch 99/300\n",
      "219/219 [==============================] - 1s 5ms/step - loss: 1.0218 - accuracy: 0.6580 - val_loss: 0.8179 - val_accuracy: 0.7367\n",
      "Epoch 100/300\n",
      "219/219 [==============================] - 1s 4ms/step - loss: 1.0330 - accuracy: 0.6500 - val_loss: 0.8171 - val_accuracy: 0.7424\n",
      "Epoch 101/300\n",
      "219/219 [==============================] - 1s 5ms/step - loss: 1.0234 - accuracy: 0.6457 - val_loss: 0.8110 - val_accuracy: 0.7390\n",
      "Epoch 102/300\n",
      "219/219 [==============================] - 1s 5ms/step - loss: 1.0407 - accuracy: 0.6475 - val_loss: 0.8297 - val_accuracy: 0.7264\n",
      "Epoch 103/300\n",
      "219/219 [==============================] - 1s 4ms/step - loss: 1.0318 - accuracy: 0.6482 - val_loss: 0.8575 - val_accuracy: 0.7310\n",
      "Epoch 104/300\n",
      "219/219 [==============================] - 1s 4ms/step - loss: 1.0302 - accuracy: 0.6474 - val_loss: 0.8276 - val_accuracy: 0.7344\n",
      "Epoch 105/300\n",
      "219/219 [==============================] - 1s 4ms/step - loss: 1.0435 - accuracy: 0.6457 - val_loss: 0.8438 - val_accuracy: 0.7207\n",
      "Epoch 106/300\n",
      "219/219 [==============================] - 1s 5ms/step - loss: 1.0126 - accuracy: 0.6564 - val_loss: 0.8121 - val_accuracy: 0.7390\n",
      "Epoch 107/300\n",
      "219/219 [==============================] - 1s 4ms/step - loss: 1.0392 - accuracy: 0.6427 - val_loss: 0.8297 - val_accuracy: 0.7333\n",
      "Epoch 108/300\n",
      "219/219 [==============================] - 1s 5ms/step - loss: 1.0406 - accuracy: 0.6428 - val_loss: 0.8291 - val_accuracy: 0.7304\n",
      "Epoch 109/300\n",
      "219/219 [==============================] - 1s 5ms/step - loss: 1.0355 - accuracy: 0.6530 - val_loss: 0.8322 - val_accuracy: 0.7355\n",
      "Epoch 110/300\n",
      "219/219 [==============================] - 1s 5ms/step - loss: 1.0208 - accuracy: 0.6544 - val_loss: 0.8117 - val_accuracy: 0.7355\n",
      "Epoch 111/300\n",
      "219/219 [==============================] - 1s 5ms/step - loss: 1.0184 - accuracy: 0.6448 - val_loss: 0.7997 - val_accuracy: 0.7430\n",
      "Epoch 112/300\n",
      "219/219 [==============================] - 1s 5ms/step - loss: 1.0363 - accuracy: 0.6508 - val_loss: 0.8191 - val_accuracy: 0.7293\n",
      "Epoch 113/300\n",
      "219/219 [==============================] - 1s 5ms/step - loss: 1.0255 - accuracy: 0.6498 - val_loss: 0.8207 - val_accuracy: 0.7373\n",
      "Epoch 114/300\n",
      "219/219 [==============================] - 1s 5ms/step - loss: 1.0459 - accuracy: 0.6518 - val_loss: 0.8289 - val_accuracy: 0.7224\n"
     ]
    },
    {
     "name": "stdout",
     "output_type": "stream",
     "text": [
      "Epoch 115/300\n",
      "219/219 [==============================] - 1s 5ms/step - loss: 1.0476 - accuracy: 0.6494 - val_loss: 0.8227 - val_accuracy: 0.7252\n",
      "Epoch 116/300\n",
      "219/219 [==============================] - 1s 5ms/step - loss: 1.0093 - accuracy: 0.6587 - val_loss: 0.8047 - val_accuracy: 0.7315\n",
      "Epoch 117/300\n",
      "219/219 [==============================] - 1s 4ms/step - loss: 1.0092 - accuracy: 0.6644 - val_loss: 0.7959 - val_accuracy: 0.7470\n",
      "Epoch 118/300\n",
      "219/219 [==============================] - 1s 4ms/step - loss: 1.0071 - accuracy: 0.6503 - val_loss: 0.8087 - val_accuracy: 0.7413\n",
      "Epoch 119/300\n",
      "219/219 [==============================] - 1s 4ms/step - loss: 1.0044 - accuracy: 0.6591 - val_loss: 0.8221 - val_accuracy: 0.7281\n",
      "Epoch 120/300\n",
      "219/219 [==============================] - 1s 4ms/step - loss: 1.0147 - accuracy: 0.6541 - val_loss: 0.7908 - val_accuracy: 0.7590\n",
      "Epoch 121/300\n",
      "219/219 [==============================] - 1s 4ms/step - loss: 1.0192 - accuracy: 0.6583 - val_loss: 0.8101 - val_accuracy: 0.7430\n",
      "Epoch 122/300\n",
      "219/219 [==============================] - 1s 4ms/step - loss: 1.0170 - accuracy: 0.6578 - val_loss: 0.7904 - val_accuracy: 0.7373\n",
      "Epoch 123/300\n",
      "219/219 [==============================] - 1s 4ms/step - loss: 1.0040 - accuracy: 0.6656 - val_loss: 0.8023 - val_accuracy: 0.7459\n",
      "Epoch 124/300\n",
      "219/219 [==============================] - 1s 4ms/step - loss: 1.0090 - accuracy: 0.6558 - val_loss: 0.7900 - val_accuracy: 0.7476\n",
      "Epoch 125/300\n",
      "219/219 [==============================] - 1s 5ms/step - loss: 0.9995 - accuracy: 0.6608 - val_loss: 0.7909 - val_accuracy: 0.7470\n",
      "Epoch 126/300\n",
      "219/219 [==============================] - 1s 5ms/step - loss: 0.9921 - accuracy: 0.6588 - val_loss: 0.7805 - val_accuracy: 0.7384\n",
      "Epoch 127/300\n",
      "219/219 [==============================] - 1s 5ms/step - loss: 0.9931 - accuracy: 0.6651 - val_loss: 0.7674 - val_accuracy: 0.7396\n",
      "Epoch 128/300\n",
      "219/219 [==============================] - 1s 5ms/step - loss: 0.9900 - accuracy: 0.6581 - val_loss: 0.7859 - val_accuracy: 0.7401\n",
      "Epoch 129/300\n",
      "219/219 [==============================] - 1s 5ms/step - loss: 0.9860 - accuracy: 0.6604 - val_loss: 0.7821 - val_accuracy: 0.7367\n",
      "Epoch 130/300\n",
      "219/219 [==============================] - 1s 5ms/step - loss: 1.0057 - accuracy: 0.6543 - val_loss: 0.8004 - val_accuracy: 0.7447\n",
      "Epoch 131/300\n",
      "219/219 [==============================] - 1s 5ms/step - loss: 0.9971 - accuracy: 0.6606 - val_loss: 0.7777 - val_accuracy: 0.7504\n",
      "Epoch 132/300\n",
      "219/219 [==============================] - 2s 7ms/step - loss: 1.0213 - accuracy: 0.6593 - val_loss: 0.7850 - val_accuracy: 0.7436\n",
      "Epoch 133/300\n",
      "219/219 [==============================] - 2s 7ms/step - loss: 0.9760 - accuracy: 0.6650 - val_loss: 0.7904 - val_accuracy: 0.7384\n",
      "Epoch 134/300\n",
      "219/219 [==============================] - 2s 9ms/step - loss: 0.9763 - accuracy: 0.6671 - val_loss: 0.7628 - val_accuracy: 0.7544\n",
      "Epoch 135/300\n",
      "219/219 [==============================] - 2s 8ms/step - loss: 0.9913 - accuracy: 0.6647 - val_loss: 0.7851 - val_accuracy: 0.7367\n",
      "Epoch 136/300\n",
      "219/219 [==============================] - 2s 8ms/step - loss: 0.9940 - accuracy: 0.6590 - val_loss: 0.7677 - val_accuracy: 0.7504\n",
      "Epoch 137/300\n",
      "219/219 [==============================] - 2s 8ms/step - loss: 0.9929 - accuracy: 0.6621 - val_loss: 0.7797 - val_accuracy: 0.7516\n",
      "Epoch 138/300\n",
      "219/219 [==============================] - 2s 10ms/step - loss: 0.9968 - accuracy: 0.6626 - val_loss: 0.7833 - val_accuracy: 0.7521\n",
      "Epoch 139/300\n",
      "219/219 [==============================] - 2s 10ms/step - loss: 0.9787 - accuracy: 0.6616 - val_loss: 0.7707 - val_accuracy: 0.7470\n",
      "Epoch 140/300\n",
      "219/219 [==============================] - 2s 8ms/step - loss: 0.9780 - accuracy: 0.6660 - val_loss: 0.7535 - val_accuracy: 0.7556\n",
      "Epoch 141/300\n",
      "219/219 [==============================] - 2s 9ms/step - loss: 0.9698 - accuracy: 0.6644 - val_loss: 0.7697 - val_accuracy: 0.7436\n",
      "Epoch 142/300\n",
      "219/219 [==============================] - 2s 7ms/step - loss: 0.9942 - accuracy: 0.6634 - val_loss: 0.7755 - val_accuracy: 0.7487\n",
      "Epoch 143/300\n",
      "219/219 [==============================] - 2s 7ms/step - loss: 0.9915 - accuracy: 0.6667 - val_loss: 0.7744 - val_accuracy: 0.7459\n",
      "Epoch 144/300\n",
      "219/219 [==============================] - 2s 7ms/step - loss: 0.9692 - accuracy: 0.6689 - val_loss: 0.7778 - val_accuracy: 0.7436\n",
      "Epoch 145/300\n",
      "219/219 [==============================] - 2s 7ms/step - loss: 0.9757 - accuracy: 0.6673 - val_loss: 0.7609 - val_accuracy: 0.7504\n",
      "Epoch 146/300\n",
      "219/219 [==============================] - 2s 8ms/step - loss: 1.0081 - accuracy: 0.6641 - val_loss: 0.7798 - val_accuracy: 0.7499\n",
      "Epoch 147/300\n",
      "219/219 [==============================] - 2s 8ms/step - loss: 0.9698 - accuracy: 0.6657 - val_loss: 0.7762 - val_accuracy: 0.7527\n",
      "Epoch 148/300\n",
      "219/219 [==============================] - 2s 8ms/step - loss: 0.9913 - accuracy: 0.6677 - val_loss: 0.7978 - val_accuracy: 0.7418\n",
      "Epoch 149/300\n",
      "219/219 [==============================] - 2s 9ms/step - loss: 0.9931 - accuracy: 0.6729 - val_loss: 0.7557 - val_accuracy: 0.7636\n",
      "Epoch 150/300\n",
      "219/219 [==============================] - 2s 8ms/step - loss: 0.9833 - accuracy: 0.6627 - val_loss: 0.7614 - val_accuracy: 0.7562\n",
      "Epoch 151/300\n",
      "219/219 [==============================] - 2s 7ms/step - loss: 0.9859 - accuracy: 0.6724 - val_loss: 0.7947 - val_accuracy: 0.7378\n",
      "Epoch 152/300\n",
      "219/219 [==============================] - 2s 7ms/step - loss: 0.9565 - accuracy: 0.6673 - val_loss: 0.7441 - val_accuracy: 0.7642\n",
      "Epoch 153/300\n",
      "219/219 [==============================] - 2s 8ms/step - loss: 0.9821 - accuracy: 0.6674 - val_loss: 0.7473 - val_accuracy: 0.7499\n",
      "Epoch 154/300\n",
      "219/219 [==============================] - 2s 8ms/step - loss: 0.9764 - accuracy: 0.6712 - val_loss: 0.7655 - val_accuracy: 0.7613\n",
      "Epoch 155/300\n",
      "219/219 [==============================] - 2s 7ms/step - loss: 0.9944 - accuracy: 0.6601 - val_loss: 0.7541 - val_accuracy: 0.7624\n",
      "Epoch 156/300\n",
      "219/219 [==============================] - 2s 8ms/step - loss: 0.9632 - accuracy: 0.6673 - val_loss: 0.7463 - val_accuracy: 0.7584\n",
      "Epoch 157/300\n",
      "219/219 [==============================] - 2s 8ms/step - loss: 0.9580 - accuracy: 0.6719 - val_loss: 0.7628 - val_accuracy: 0.7579\n",
      "Epoch 158/300\n",
      "219/219 [==============================] - 2s 9ms/step - loss: 0.9628 - accuracy: 0.6733 - val_loss: 0.7577 - val_accuracy: 0.7550\n",
      "Epoch 159/300\n",
      "219/219 [==============================] - 2s 9ms/step - loss: 0.9881 - accuracy: 0.6616 - val_loss: 0.7640 - val_accuracy: 0.7539\n",
      "Epoch 160/300\n",
      "219/219 [==============================] - 2s 7ms/step - loss: 0.9718 - accuracy: 0.6657 - val_loss: 0.7580 - val_accuracy: 0.7562\n",
      "Epoch 161/300\n",
      "219/219 [==============================] - 2s 7ms/step - loss: 0.9856 - accuracy: 0.6683 - val_loss: 0.7710 - val_accuracy: 0.7396\n",
      "Epoch 162/300\n",
      "219/219 [==============================] - 2s 7ms/step - loss: 0.9652 - accuracy: 0.6670 - val_loss: 0.7376 - val_accuracy: 0.7659\n",
      "Epoch 163/300\n",
      "219/219 [==============================] - 2s 7ms/step - loss: 0.9648 - accuracy: 0.6683 - val_loss: 0.7418 - val_accuracy: 0.7682\n",
      "Epoch 164/300\n",
      "219/219 [==============================] - 2s 7ms/step - loss: 0.9814 - accuracy: 0.6637 - val_loss: 0.7478 - val_accuracy: 0.7590\n",
      "Epoch 165/300\n",
      "219/219 [==============================] - 2s 7ms/step - loss: 0.9695 - accuracy: 0.6759 - val_loss: 0.7550 - val_accuracy: 0.7579\n",
      "Epoch 166/300\n",
      "219/219 [==============================] - 2s 8ms/step - loss: 0.9751 - accuracy: 0.6717 - val_loss: 0.7719 - val_accuracy: 0.7487\n",
      "Epoch 167/300\n",
      "219/219 [==============================] - 2s 10ms/step - loss: 0.9672 - accuracy: 0.6720 - val_loss: 0.7466 - val_accuracy: 0.7682\n",
      "Epoch 168/300\n",
      "219/219 [==============================] - 2s 10ms/step - loss: 0.9590 - accuracy: 0.6716 - val_loss: 0.7576 - val_accuracy: 0.7499\n",
      "Epoch 169/300\n",
      "219/219 [==============================] - 2s 8ms/step - loss: 0.9758 - accuracy: 0.6627 - val_loss: 0.7730 - val_accuracy: 0.7556\n",
      "Epoch 170/300\n",
      "219/219 [==============================] - 2s 7ms/step - loss: 0.9517 - accuracy: 0.6716 - val_loss: 0.7568 - val_accuracy: 0.7550\n",
      "Epoch 171/300\n"
     ]
    },
    {
     "name": "stdout",
     "output_type": "stream",
     "text": [
      "219/219 [==============================] - 2s 7ms/step - loss: 0.9777 - accuracy: 0.6646 - val_loss: 0.7756 - val_accuracy: 0.7459\n",
      "Epoch 172/300\n",
      "219/219 [==============================] - 2s 7ms/step - loss: 0.9575 - accuracy: 0.6736 - val_loss: 0.7620 - val_accuracy: 0.7573\n",
      "Epoch 173/300\n",
      "219/219 [==============================] - 2s 7ms/step - loss: 0.9857 - accuracy: 0.6667 - val_loss: 0.7634 - val_accuracy: 0.7579\n",
      "Epoch 174/300\n",
      "219/219 [==============================] - 2s 8ms/step - loss: 0.9424 - accuracy: 0.6743 - val_loss: 0.7463 - val_accuracy: 0.7613\n",
      "Epoch 175/300\n",
      "219/219 [==============================] - 2s 7ms/step - loss: 0.9853 - accuracy: 0.6618 - val_loss: 0.7742 - val_accuracy: 0.7516\n",
      "Epoch 176/300\n",
      "219/219 [==============================] - 2s 8ms/step - loss: 0.9726 - accuracy: 0.6699 - val_loss: 0.7574 - val_accuracy: 0.7441\n",
      "Epoch 177/300\n",
      "219/219 [==============================] - 2s 8ms/step - loss: 0.9656 - accuracy: 0.6752 - val_loss: 0.7602 - val_accuracy: 0.7573\n",
      "Epoch 178/300\n",
      "219/219 [==============================] - 2s 8ms/step - loss: 0.9362 - accuracy: 0.6805 - val_loss: 0.7574 - val_accuracy: 0.7527\n",
      "Epoch 179/300\n",
      "219/219 [==============================] - 2s 7ms/step - loss: 0.9674 - accuracy: 0.6729 - val_loss: 0.7689 - val_accuracy: 0.7619\n",
      "Epoch 180/300\n",
      "219/219 [==============================] - 2s 7ms/step - loss: 0.9529 - accuracy: 0.6760 - val_loss: 0.7429 - val_accuracy: 0.7624\n",
      "Epoch 181/300\n",
      "219/219 [==============================] - 2s 7ms/step - loss: 0.9681 - accuracy: 0.6723 - val_loss: 0.7668 - val_accuracy: 0.7441\n",
      "Epoch 182/300\n",
      "219/219 [==============================] - 2s 7ms/step - loss: 0.9869 - accuracy: 0.6670 - val_loss: 0.7766 - val_accuracy: 0.7521\n",
      "Epoch 183/300\n",
      "219/219 [==============================] - 2s 8ms/step - loss: 0.9636 - accuracy: 0.6720 - val_loss: 0.7598 - val_accuracy: 0.7550\n",
      "Epoch 184/300\n",
      "219/219 [==============================] - 2s 9ms/step - loss: 0.9531 - accuracy: 0.6713 - val_loss: 0.7485 - val_accuracy: 0.7573\n",
      "Epoch 185/300\n",
      "219/219 [==============================] - 2s 8ms/step - loss: 0.9721 - accuracy: 0.6614 - val_loss: 0.7335 - val_accuracy: 0.7596\n",
      "Epoch 186/300\n",
      "219/219 [==============================] - 2s 8ms/step - loss: 0.9335 - accuracy: 0.6749 - val_loss: 0.7530 - val_accuracy: 0.7499\n",
      "Epoch 187/300\n",
      "219/219 [==============================] - 2s 8ms/step - loss: 0.9440 - accuracy: 0.6754 - val_loss: 0.7618 - val_accuracy: 0.7338\n",
      "Epoch 188/300\n",
      "219/219 [==============================] - 2s 7ms/step - loss: 0.9645 - accuracy: 0.6754 - val_loss: 0.7468 - val_accuracy: 0.7527\n",
      "Epoch 189/300\n",
      "219/219 [==============================] - 2s 7ms/step - loss: 0.9526 - accuracy: 0.6723 - val_loss: 0.7671 - val_accuracy: 0.7510\n",
      "Epoch 190/300\n",
      "219/219 [==============================] - 2s 7ms/step - loss: 0.9630 - accuracy: 0.6666 - val_loss: 0.7591 - val_accuracy: 0.7607\n",
      "Epoch 191/300\n",
      "219/219 [==============================] - 2s 7ms/step - loss: 0.9654 - accuracy: 0.6726 - val_loss: 0.7545 - val_accuracy: 0.7539\n",
      "Epoch 192/300\n",
      "219/219 [==============================] - 1s 7ms/step - loss: 0.9433 - accuracy: 0.6779 - val_loss: 0.7467 - val_accuracy: 0.7527\n",
      "Epoch 193/300\n",
      "219/219 [==============================] - 2s 7ms/step - loss: 0.9496 - accuracy: 0.6822 - val_loss: 0.7429 - val_accuracy: 0.7521\n",
      "Epoch 194/300\n",
      "219/219 [==============================] - 2s 7ms/step - loss: 0.9694 - accuracy: 0.6716 - val_loss: 0.7534 - val_accuracy: 0.7642\n",
      "Epoch 195/300\n",
      "219/219 [==============================] - 2s 8ms/step - loss: 0.9708 - accuracy: 0.6689 - val_loss: 0.7465 - val_accuracy: 0.7487\n",
      "Epoch 196/300\n",
      "219/219 [==============================] - 2s 8ms/step - loss: 0.9351 - accuracy: 0.6770 - val_loss: 0.7477 - val_accuracy: 0.7659\n",
      "Epoch 197/300\n",
      "219/219 [==============================] - 2s 8ms/step - loss: 0.9426 - accuracy: 0.6785 - val_loss: 0.7297 - val_accuracy: 0.7584\n",
      "Epoch 198/300\n",
      "219/219 [==============================] - 2s 7ms/step - loss: 0.9625 - accuracy: 0.6753 - val_loss: 0.7598 - val_accuracy: 0.7459\n",
      "Epoch 199/300\n",
      "219/219 [==============================] - 2s 7ms/step - loss: 0.9503 - accuracy: 0.6787 - val_loss: 0.7287 - val_accuracy: 0.7768\n",
      "Epoch 200/300\n",
      "219/219 [==============================] - 2s 7ms/step - loss: 0.9374 - accuracy: 0.6869 - val_loss: 0.7474 - val_accuracy: 0.7602\n",
      "Epoch 201/300\n",
      "219/219 [==============================] - 2s 7ms/step - loss: 0.9591 - accuracy: 0.6722 - val_loss: 0.7698 - val_accuracy: 0.7493\n",
      "Epoch 202/300\n",
      "219/219 [==============================] - 2s 7ms/step - loss: 0.9681 - accuracy: 0.6737 - val_loss: 0.7628 - val_accuracy: 0.7642\n",
      "Epoch 203/300\n",
      "219/219 [==============================] - 2s 7ms/step - loss: 0.9219 - accuracy: 0.6886 - val_loss: 0.7355 - val_accuracy: 0.7710\n",
      "Epoch 204/300\n",
      "219/219 [==============================] - 2s 8ms/step - loss: 0.9253 - accuracy: 0.6805 - val_loss: 0.7507 - val_accuracy: 0.7504\n",
      "Epoch 205/300\n",
      "219/219 [==============================] - 2s 8ms/step - loss: 0.9601 - accuracy: 0.6806 - val_loss: 0.7560 - val_accuracy: 0.7459\n",
      "Epoch 206/300\n",
      "219/219 [==============================] - 2s 9ms/step - loss: 0.9555 - accuracy: 0.6737 - val_loss: 0.7212 - val_accuracy: 0.7607\n",
      "Epoch 207/300\n",
      "219/219 [==============================] - 2s 9ms/step - loss: 0.9630 - accuracy: 0.6769 - val_loss: 0.7424 - val_accuracy: 0.7636\n",
      "Epoch 208/300\n",
      "219/219 [==============================] - 2s 8ms/step - loss: 0.9460 - accuracy: 0.6747 - val_loss: 0.7302 - val_accuracy: 0.7579\n",
      "Epoch 209/300\n",
      "219/219 [==============================] - 2s 7ms/step - loss: 0.9339 - accuracy: 0.6825 - val_loss: 0.7316 - val_accuracy: 0.7607\n",
      "Epoch 210/300\n",
      "219/219 [==============================] - 2s 8ms/step - loss: 0.9310 - accuracy: 0.6850 - val_loss: 0.7369 - val_accuracy: 0.7619\n",
      "Epoch 211/300\n",
      "219/219 [==============================] - 2s 7ms/step - loss: 0.9742 - accuracy: 0.6753 - val_loss: 0.7320 - val_accuracy: 0.7584\n",
      "Epoch 212/300\n",
      "219/219 [==============================] - 2s 7ms/step - loss: 0.9584 - accuracy: 0.6681 - val_loss: 0.7417 - val_accuracy: 0.7521\n",
      "Epoch 213/300\n",
      "219/219 [==============================] - 2s 8ms/step - loss: 0.9457 - accuracy: 0.6769 - val_loss: 0.7291 - val_accuracy: 0.7676\n",
      "Epoch 214/300\n",
      "219/219 [==============================] - 2s 8ms/step - loss: 0.9390 - accuracy: 0.6769 - val_loss: 0.7498 - val_accuracy: 0.7642\n",
      "Epoch 215/300\n",
      "219/219 [==============================] - 2s 8ms/step - loss: 0.9449 - accuracy: 0.6845 - val_loss: 0.7447 - val_accuracy: 0.7647\n",
      "Epoch 216/300\n",
      "219/219 [==============================] - 2s 8ms/step - loss: 0.9551 - accuracy: 0.6759 - val_loss: 0.7411 - val_accuracy: 0.7670\n",
      "Epoch 217/300\n",
      "219/219 [==============================] - 2s 7ms/step - loss: 0.9210 - accuracy: 0.6853 - val_loss: 0.7383 - val_accuracy: 0.7636\n",
      "Epoch 218/300\n",
      "219/219 [==============================] - 2s 7ms/step - loss: 0.9614 - accuracy: 0.6790 - val_loss: 0.7480 - val_accuracy: 0.7630\n",
      "Epoch 219/300\n",
      "219/219 [==============================] - 2s 7ms/step - loss: 0.9203 - accuracy: 0.6860 - val_loss: 0.7313 - val_accuracy: 0.7579\n",
      "Epoch 220/300\n",
      "219/219 [==============================] - 2s 7ms/step - loss: 0.9444 - accuracy: 0.6853 - val_loss: 0.7433 - val_accuracy: 0.7567\n",
      "Epoch 221/300\n",
      "219/219 [==============================] - 2s 7ms/step - loss: 0.9400 - accuracy: 0.6776 - val_loss: 0.7460 - val_accuracy: 0.7619\n",
      "Epoch 222/300\n",
      "219/219 [==============================] - 2s 7ms/step - loss: 0.9475 - accuracy: 0.6753 - val_loss: 0.7302 - val_accuracy: 0.7750\n",
      "Epoch 223/300\n",
      "219/219 [==============================] - 2s 7ms/step - loss: 0.9371 - accuracy: 0.6846 - val_loss: 0.7227 - val_accuracy: 0.7716\n",
      "Epoch 224/300\n",
      "219/219 [==============================] - 2s 8ms/step - loss: 0.9239 - accuracy: 0.6845 - val_loss: 0.7262 - val_accuracy: 0.7687\n",
      "Epoch 225/300\n",
      "219/219 [==============================] - 2s 8ms/step - loss: 0.9254 - accuracy: 0.6845 - val_loss: 0.7138 - val_accuracy: 0.7653\n",
      "Epoch 226/300\n",
      "219/219 [==============================] - 2s 8ms/step - loss: 0.9058 - accuracy: 0.6928 - val_loss: 0.7470 - val_accuracy: 0.7481\n",
      "Epoch 227/300\n"
     ]
    },
    {
     "name": "stdout",
     "output_type": "stream",
     "text": [
      "219/219 [==============================] - 2s 7ms/step - loss: 0.9408 - accuracy: 0.6833 - val_loss: 0.7239 - val_accuracy: 0.7733\n",
      "Epoch 228/300\n",
      "219/219 [==============================] - 2s 7ms/step - loss: 0.9477 - accuracy: 0.6783 - val_loss: 0.7309 - val_accuracy: 0.7607\n",
      "Epoch 229/300\n",
      "219/219 [==============================] - 2s 7ms/step - loss: 0.9350 - accuracy: 0.6763 - val_loss: 0.7230 - val_accuracy: 0.7733\n",
      "Epoch 230/300\n",
      "219/219 [==============================] - 2s 7ms/step - loss: 0.9333 - accuracy: 0.6843 - val_loss: 0.7247 - val_accuracy: 0.7733\n",
      "Epoch 231/300\n",
      "219/219 [==============================] - 2s 7ms/step - loss: 0.9189 - accuracy: 0.6870 - val_loss: 0.7468 - val_accuracy: 0.7670\n",
      "Epoch 232/300\n",
      "219/219 [==============================] - 2s 7ms/step - loss: 0.9594 - accuracy: 0.6779 - val_loss: 0.7391 - val_accuracy: 0.7647\n",
      "Epoch 233/300\n",
      "219/219 [==============================] - 2s 8ms/step - loss: 0.9585 - accuracy: 0.6717 - val_loss: 0.7492 - val_accuracy: 0.7590\n",
      "Epoch 234/300\n",
      "219/219 [==============================] - 2s 8ms/step - loss: 0.9474 - accuracy: 0.6785 - val_loss: 0.7625 - val_accuracy: 0.7573\n",
      "Epoch 235/300\n",
      "219/219 [==============================] - 2s 8ms/step - loss: 0.9629 - accuracy: 0.6764 - val_loss: 0.7363 - val_accuracy: 0.7659\n",
      "Epoch 236/300\n",
      "219/219 [==============================] - 2s 8ms/step - loss: 0.9424 - accuracy: 0.6848 - val_loss: 0.7670 - val_accuracy: 0.7607\n",
      "Epoch 237/300\n",
      "219/219 [==============================] - 2s 7ms/step - loss: 0.9695 - accuracy: 0.6707 - val_loss: 0.7407 - val_accuracy: 0.7624\n",
      "Epoch 238/300\n",
      "219/219 [==============================] - 1s 7ms/step - loss: 0.9478 - accuracy: 0.6760 - val_loss: 0.7527 - val_accuracy: 0.7687\n",
      "Epoch 239/300\n",
      "219/219 [==============================] - 2s 7ms/step - loss: 0.9481 - accuracy: 0.6744 - val_loss: 0.7282 - val_accuracy: 0.7653\n",
      "Epoch 240/300\n",
      "219/219 [==============================] - 1s 7ms/step - loss: 0.9325 - accuracy: 0.6931 - val_loss: 0.7045 - val_accuracy: 0.7750\n",
      "Epoch 241/300\n",
      "219/219 [==============================] - 2s 7ms/step - loss: 0.9414 - accuracy: 0.6872 - val_loss: 0.7221 - val_accuracy: 0.7750\n",
      "Epoch 242/300\n",
      "219/219 [==============================] - 2s 7ms/step - loss: 0.9312 - accuracy: 0.6846 - val_loss: 0.7143 - val_accuracy: 0.7676\n",
      "Epoch 243/300\n",
      "219/219 [==============================] - 2s 8ms/step - loss: 0.9507 - accuracy: 0.6793 - val_loss: 0.7274 - val_accuracy: 0.7670\n",
      "Epoch 244/300\n",
      "219/219 [==============================] - 2s 8ms/step - loss: 0.9146 - accuracy: 0.6886 - val_loss: 0.7343 - val_accuracy: 0.7579\n",
      "Epoch 245/300\n",
      "219/219 [==============================] - 2s 8ms/step - loss: 0.9582 - accuracy: 0.6736 - val_loss: 0.7432 - val_accuracy: 0.7687\n",
      "Epoch 246/300\n",
      "219/219 [==============================] - 2s 8ms/step - loss: 0.9263 - accuracy: 0.6776 - val_loss: 0.7245 - val_accuracy: 0.7750\n",
      "Epoch 247/300\n",
      "219/219 [==============================] - 2s 8ms/step - loss: 0.9121 - accuracy: 0.6895 - val_loss: 0.7354 - val_accuracy: 0.7630\n",
      "Epoch 248/300\n",
      "219/219 [==============================] - 2s 8ms/step - loss: 0.9204 - accuracy: 0.6908 - val_loss: 0.7104 - val_accuracy: 0.7716\n",
      "Epoch 249/300\n",
      "219/219 [==============================] - 2s 7ms/step - loss: 0.9067 - accuracy: 0.6936 - val_loss: 0.7116 - val_accuracy: 0.7693\n",
      "Epoch 250/300\n",
      "219/219 [==============================] - 2s 7ms/step - loss: 0.9047 - accuracy: 0.6936 - val_loss: 0.7191 - val_accuracy: 0.7676\n",
      "Epoch 251/300\n",
      "219/219 [==============================] - 2s 8ms/step - loss: 0.9365 - accuracy: 0.6835 - val_loss: 0.7055 - val_accuracy: 0.7642\n",
      "Epoch 252/300\n",
      "219/219 [==============================] - 2s 8ms/step - loss: 0.9443 - accuracy: 0.6772 - val_loss: 0.7151 - val_accuracy: 0.7716\n",
      "Epoch 253/300\n",
      "219/219 [==============================] - 2s 8ms/step - loss: 0.9292 - accuracy: 0.6815 - val_loss: 0.7153 - val_accuracy: 0.7687\n",
      "Epoch 254/300\n",
      "219/219 [==============================] - 2s 8ms/step - loss: 0.9283 - accuracy: 0.6885 - val_loss: 0.6902 - val_accuracy: 0.7682\n",
      "Epoch 255/300\n",
      "219/219 [==============================] - 2s 8ms/step - loss: 0.9062 - accuracy: 0.6939 - val_loss: 0.6872 - val_accuracy: 0.7745\n",
      "Epoch 256/300\n",
      "219/219 [==============================] - 2s 7ms/step - loss: 0.9169 - accuracy: 0.6870 - val_loss: 0.7044 - val_accuracy: 0.7773\n",
      "Epoch 257/300\n",
      "219/219 [==============================] - 1s 6ms/step - loss: 0.9305 - accuracy: 0.6833 - val_loss: 0.7034 - val_accuracy: 0.7762\n",
      "Epoch 258/300\n",
      "219/219 [==============================] - 2s 7ms/step - loss: 0.9371 - accuracy: 0.6802 - val_loss: 0.7308 - val_accuracy: 0.7693\n",
      "Epoch 259/300\n",
      "219/219 [==============================] - 2s 7ms/step - loss: 0.9295 - accuracy: 0.6785 - val_loss: 0.7293 - val_accuracy: 0.7716\n",
      "Epoch 260/300\n",
      "219/219 [==============================] - 2s 7ms/step - loss: 0.9352 - accuracy: 0.6826 - val_loss: 0.7142 - val_accuracy: 0.7682\n",
      "Epoch 261/300\n",
      "219/219 [==============================] - 2s 7ms/step - loss: 0.9179 - accuracy: 0.6855 - val_loss: 0.7055 - val_accuracy: 0.7762\n",
      "Epoch 262/300\n",
      "219/219 [==============================] - 2s 7ms/step - loss: 0.9350 - accuracy: 0.6875 - val_loss: 0.6960 - val_accuracy: 0.7670\n",
      "Epoch 263/300\n",
      "219/219 [==============================] - 2s 8ms/step - loss: 0.9427 - accuracy: 0.6853 - val_loss: 0.7171 - val_accuracy: 0.7647\n",
      "Epoch 264/300\n",
      "219/219 [==============================] - 2s 8ms/step - loss: 0.9433 - accuracy: 0.6823 - val_loss: 0.7122 - val_accuracy: 0.7745\n",
      "Epoch 265/300\n",
      "219/219 [==============================] - 2s 8ms/step - loss: 0.9228 - accuracy: 0.6840 - val_loss: 0.7176 - val_accuracy: 0.7693\n",
      "Epoch 266/300\n",
      "219/219 [==============================] - 2s 7ms/step - loss: 0.9150 - accuracy: 0.6868 - val_loss: 0.6899 - val_accuracy: 0.7859\n",
      "Epoch 267/300\n",
      "219/219 [==============================] - 1s 7ms/step - loss: 0.9207 - accuracy: 0.6892 - val_loss: 0.7174 - val_accuracy: 0.7779\n",
      "Epoch 268/300\n",
      "219/219 [==============================] - 2s 7ms/step - loss: 0.9302 - accuracy: 0.6843 - val_loss: 0.7306 - val_accuracy: 0.7722\n",
      "Epoch 269/300\n",
      "219/219 [==============================] - 2s 7ms/step - loss: 0.9374 - accuracy: 0.6819 - val_loss: 0.7217 - val_accuracy: 0.7728\n",
      "Epoch 270/300\n",
      "219/219 [==============================] - 2s 7ms/step - loss: 0.9322 - accuracy: 0.6879 - val_loss: 0.7243 - val_accuracy: 0.7682\n",
      "Epoch 271/300\n",
      "219/219 [==============================] - 2s 7ms/step - loss: 0.9390 - accuracy: 0.6799 - val_loss: 0.7041 - val_accuracy: 0.7853\n",
      "Epoch 272/300\n",
      "219/219 [==============================] - 2s 8ms/step - loss: 0.9428 - accuracy: 0.6805 - val_loss: 0.7228 - val_accuracy: 0.7728\n",
      "Epoch 273/300\n",
      "219/219 [==============================] - 2s 8ms/step - loss: 0.9262 - accuracy: 0.6889 - val_loss: 0.7066 - val_accuracy: 0.7693\n",
      "Epoch 274/300\n",
      "219/219 [==============================] - 2s 8ms/step - loss: 0.9066 - accuracy: 0.6926 - val_loss: 0.6981 - val_accuracy: 0.7836\n",
      "Epoch 275/300\n",
      "219/219 [==============================] - 2s 8ms/step - loss: 0.9124 - accuracy: 0.6925 - val_loss: 0.7001 - val_accuracy: 0.7750\n",
      "Epoch 276/300\n",
      "219/219 [==============================] - 2s 7ms/step - loss: 0.9211 - accuracy: 0.6856 - val_loss: 0.7122 - val_accuracy: 0.7687\n",
      "Epoch 277/300\n",
      "219/219 [==============================] - 2s 7ms/step - loss: 0.9098 - accuracy: 0.6848 - val_loss: 0.7101 - val_accuracy: 0.7630\n",
      "Epoch 278/300\n",
      "219/219 [==============================] - 2s 7ms/step - loss: 0.9077 - accuracy: 0.6853 - val_loss: 0.7057 - val_accuracy: 0.7722\n",
      "Epoch 279/300\n",
      "219/219 [==============================] - 2s 7ms/step - loss: 0.8999 - accuracy: 0.6916 - val_loss: 0.6995 - val_accuracy: 0.7699\n",
      "Epoch 280/300\n",
      "219/219 [==============================] - 2s 7ms/step - loss: 0.9059 - accuracy: 0.6965 - val_loss: 0.7134 - val_accuracy: 0.7682\n",
      "Epoch 281/300\n",
      "219/219 [==============================] - 2s 7ms/step - loss: 0.9221 - accuracy: 0.6870 - val_loss: 0.6913 - val_accuracy: 0.7682\n",
      "Epoch 282/300\n",
      "219/219 [==============================] - 2s 8ms/step - loss: 0.9202 - accuracy: 0.6938 - val_loss: 0.7276 - val_accuracy: 0.7607\n",
      "Epoch 283/300\n"
     ]
    },
    {
     "name": "stdout",
     "output_type": "stream",
     "text": [
      "219/219 [==============================] - 2s 8ms/step - loss: 0.9052 - accuracy: 0.6859 - val_loss: 0.7084 - val_accuracy: 0.7699\n",
      "Epoch 284/300\n",
      "219/219 [==============================] - 2s 8ms/step - loss: 0.9110 - accuracy: 0.6915 - val_loss: 0.6984 - val_accuracy: 0.7722\n",
      "Epoch 285/300\n",
      "219/219 [==============================] - 2s 9ms/step - loss: 0.9236 - accuracy: 0.6889 - val_loss: 0.7174 - val_accuracy: 0.7642\n",
      "Epoch 286/300\n",
      "219/219 [==============================] - 2s 7ms/step - loss: 0.9034 - accuracy: 0.6899 - val_loss: 0.7066 - val_accuracy: 0.7705\n",
      "Epoch 287/300\n",
      "219/219 [==============================] - 2s 9ms/step - loss: 0.9098 - accuracy: 0.6872 - val_loss: 0.7100 - val_accuracy: 0.7693\n",
      "Epoch 288/300\n",
      "219/219 [==============================] - 2s 7ms/step - loss: 0.9055 - accuracy: 0.6972 - val_loss: 0.7286 - val_accuracy: 0.7659\n",
      "Epoch 289/300\n",
      "219/219 [==============================] - 1s 7ms/step - loss: 0.9222 - accuracy: 0.6876 - val_loss: 0.7277 - val_accuracy: 0.7647\n",
      "Epoch 290/300\n",
      "219/219 [==============================] - 2s 7ms/step - loss: 0.9140 - accuracy: 0.6868 - val_loss: 0.6989 - val_accuracy: 0.7745\n",
      "Epoch 291/300\n",
      "219/219 [==============================] - 2s 8ms/step - loss: 0.9217 - accuracy: 0.6913 - val_loss: 0.7251 - val_accuracy: 0.7665\n",
      "Epoch 292/300\n",
      "219/219 [==============================] - 2s 11ms/step - loss: 0.9274 - accuracy: 0.6846 - val_loss: 0.7122 - val_accuracy: 0.7630\n",
      "Epoch 293/300\n",
      "219/219 [==============================] - 2s 9ms/step - loss: 0.8927 - accuracy: 0.6916 - val_loss: 0.6998 - val_accuracy: 0.7624\n",
      "Epoch 294/300\n",
      "219/219 [==============================] - 2s 8ms/step - loss: 0.9014 - accuracy: 0.6928 - val_loss: 0.6982 - val_accuracy: 0.7722\n",
      "Epoch 295/300\n",
      "219/219 [==============================] - 2s 8ms/step - loss: 0.9180 - accuracy: 0.6969 - val_loss: 0.7116 - val_accuracy: 0.7762\n",
      "Epoch 296/300\n",
      "219/219 [==============================] - 2s 7ms/step - loss: 0.9145 - accuracy: 0.6886 - val_loss: 0.6980 - val_accuracy: 0.7768\n",
      "Epoch 297/300\n",
      "219/219 [==============================] - 2s 7ms/step - loss: 0.9286 - accuracy: 0.6833 - val_loss: 0.7063 - val_accuracy: 0.7790\n",
      "Epoch 298/300\n",
      "219/219 [==============================] - 2s 7ms/step - loss: 0.9268 - accuracy: 0.6889 - val_loss: 0.7051 - val_accuracy: 0.7739\n",
      "Epoch 299/300\n",
      "219/219 [==============================] - 2s 7ms/step - loss: 0.9272 - accuracy: 0.6865 - val_loss: 0.7063 - val_accuracy: 0.7670\n",
      "Epoch 300/300\n",
      "219/219 [==============================] - 2s 7ms/step - loss: 0.9053 - accuracy: 0.6872 - val_loss: 0.6932 - val_accuracy: 0.7733\n"
     ]
    },
    {
     "data": {
      "text/plain": [
       "<keras.callbacks.History at 0x1f8a023deb0>"
      ]
     },
     "execution_count": 23,
     "metadata": {},
     "output_type": "execute_result"
    }
   ],
   "source": [
    "epochscount = 300\n",
    "num_batch_size = 32\n",
    "\n",
    "model.fit(X_train, y_train, batch_size=num_batch_size, epochs=epochscount, validation_data=(X_test, y_test), verbose=1)\n"
   ]
  },
  {
   "cell_type": "code",
   "execution_count": 85,
   "id": "25b6e4f5",
   "metadata": {},
   "outputs": [
    {
     "name": "stdout",
     "output_type": "stream",
     "text": [
      "0.7733256816864014\n",
      "0.6931586265563965\n"
     ]
    }
   ],
   "source": [
    "\n",
    "validation_test_set_accuracy = model.evaluate(X_test,y_test,verbose=0)\n",
    "print(max(validation_test_set_accuracy))\n",
    "print(min(validation_test_set_accuracy))"
   ]
  },
  {
   "cell_type": "code",
   "execution_count": 25,
   "id": "4f96e3aa",
   "metadata": {},
   "outputs": [
    {
     "name": "stdout",
     "output_type": "stream",
     "text": [
      "55/55 [==============================] - 0s 3ms/step\n"
     ]
    }
   ],
   "source": [
    "cnn_pred=model.predict(X_test)\n"
   ]
  },
  {
   "cell_type": "code",
   "execution_count": 26,
   "id": "97d32d54",
   "metadata": {},
   "outputs": [],
   "source": [
    "from sklearn.metrics import confusion_matrix\n",
    "c_mat=confusion_matrix(y_test.argmax(axis=1), cnn_pred.argmax(axis=1))"
   ]
  },
  {
   "cell_type": "code",
   "execution_count": 27,
   "id": "97b627e5",
   "metadata": {},
   "outputs": [
    {
     "data": {
      "text/plain": [
       "array([[159,   0,  25,   0,   0,   4,   0,   3,   0,   4],\n",
       "       [  2,  66,   3,   6,   0,   1,   0,   3,   0,  10],\n",
       "       [ 12,   0, 146,  13,   2,   4,   3,   3,   1,  21],\n",
       "       [  5,   0,   7, 141,   1,   7,   2,   0,   2,  17],\n",
       "       [  3,   1,   2,   7, 152,   0,   0,  15,   1,  21],\n",
       "       [  5,   2,   2,   4,   0, 195,   0,   0,   2,   6],\n",
       "       [  1,   0,   9,  23,   2,   1,  45,   1,   1,   4],\n",
       "       [  1,   0,   1,   0,   3,   1,   0, 164,   0,  17],\n",
       "       [  5,   0,  11,   9,   1,   2,   0,   1, 168,   2],\n",
       "       [ 10,   3,  32,   6,   5,   5,   0,   6,   1, 115]], dtype=int64)"
      ]
     },
     "execution_count": 27,
     "metadata": {},
     "output_type": "execute_result"
    }
   ],
   "source": [
    "c_mat"
   ]
  },
  {
   "cell_type": "code",
   "execution_count": 28,
   "id": "39aff4a6",
   "metadata": {},
   "outputs": [
    {
     "data": {
      "image/png": "[encoded data removed]",
      "text/plain": [
       "<Figure size 640x480 with 2 Axes>"
      ]
     },
     "metadata": {},
     "output_type": "display_data"
    }
   ],
   "source": [
    "import matplotlib.pyplot as plt  \n",
    "import seaborn as sns\n",
    "ax= plt.subplot()\n",
    "sns.heatmap(c_mat, annot=True, ax = ax,fmt='g',cmap='Blues'); \n",
    "ax.set_xlabel('confusion matrix CNN', fontsize=15)\n",
    "ax.xaxis.set_label_position('top') \n",
    "\n",
    "ax.set_ylabel('True', fontsize=20)\n",
    "\n",
    "plt.show()"
   ]
  },
  {
   "cell_type": "markdown",
   "id": "d9bec9ed",
   "metadata": {},
   "source": [
    "# SVM"
   ]
  },
  {
   "cell_type": "code",
   "execution_count": 29,
   "id": "6c5a3365",
   "metadata": {},
   "outputs": [
    {
     "data": {
      "text/plain": [
       "57.75615340583858"
      ]
     },
     "execution_count": 29,
     "metadata": {},
     "output_type": "execute_result"
    }
   ],
   "source": [
    "from sklearn.svm import SVC\n",
    "from sklearn.metrics import mean_squared_error, accuracy_score,confusion_matrix\n",
    "svm_clf = SVC()\n",
    "svm_clf.fit(X_train,y_train.argmax(axis=1))\n",
    "\n",
    "svm_pred = svm_clf.predict(X_test)\n",
    "\n",
    "\n",
    "accuracy_score(y_test.argmax(axis=1),svm_pred)*100"
   ]
  },
  {
   "cell_type": "code",
   "execution_count": 30,
   "id": "1136108e",
   "metadata": {},
   "outputs": [],
   "source": [
    "c_mat=confusion_matrix(y_test.argmax(axis=1),svm_pred)"
   ]
  },
  {
   "cell_type": "code",
   "execution_count": 31,
   "id": "ac985682",
   "metadata": {},
   "outputs": [
    {
     "data": {
      "image/png": "[encoded data removed]",
      "text/plain": [
       "<Figure size 640x480 with 2 Axes>"
      ]
     },
     "metadata": {},
     "output_type": "display_data"
    }
   ],
   "source": [
    "ax= plt.subplot()\n",
    "sns.heatmap(c_mat, annot=True, ax = ax,fmt='g',cmap='Blues'); \n",
    "ax.set_xlabel('SVM', fontsize=15)\n",
    "ax.xaxis.set_label_position('top') \n",
    "\n",
    "ax.set_ylabel('True', fontsize=20)\n",
    "\n",
    "plt.show()"
   ]
  },
  {
   "cell_type": "markdown",
   "id": "00a1c8ea",
   "metadata": {},
   "source": [
    "# RF"
   ]
  },
  {
   "cell_type": "code",
   "execution_count": 32,
   "id": "c47638b9",
   "metadata": {},
   "outputs": [
    {
     "data": {
      "text/plain": [
       "88.32283915283344"
      ]
     },
     "execution_count": 32,
     "metadata": {},
     "output_type": "execute_result"
    }
   ],
   "source": [
    "from sklearn.ensemble import RandomForestClassifier\n",
    "\n",
    "rc_clf = RandomForestClassifier()\n",
    "rc_clf.fit(X_train,y_train.argmax(axis=1))\n",
    "\n",
    "rc_pred = rc_clf.predict(X_test)\n",
    "\n",
    "\n",
    "accuracy_score(y_test.argmax(axis=1),rc_pred)*100"
   ]
  },
  {
   "cell_type": "code",
   "execution_count": 33,
   "id": "8856dfbb",
   "metadata": {},
   "outputs": [],
   "source": [
    "c_mat=confusion_matrix(y_test.argmax(axis=1),rc_pred)"
   ]
  },
  {
   "cell_type": "code",
   "execution_count": 34,
   "id": "32fb618b",
   "metadata": {},
   "outputs": [
    {
     "data": {
      "text/plain": [
       "array([[187,   0,   3,   0,   0,   0,   0,   2,   0,   3],\n",
       "       [  3,  69,   4,   5,   2,   1,   0,   3,   1,   3],\n",
       "       [  1,   0, 181,   6,   4,   1,   0,   1,   1,  10],\n",
       "       [  5,   0,   9, 147,   3,   2,   1,   0,   4,  11],\n",
       "       [  1,   0,   2,   1, 177,   0,   0,  12,   1,   8],\n",
       "       [  0,   0,   2,   1,   0, 212,   0,   0,   1,   0],\n",
       "       [  0,   0,   8,   9,   2,   0,  66,   0,   0,   2],\n",
       "       [  2,   0,   1,   0,   4,   0,   0, 175,   0,   5],\n",
       "       [  0,   0,   6,   1,   0,   0,   0,   1, 190,   1],\n",
       "       [  1,   0,  19,   9,   6,   2,   0,   6,   1, 139]], dtype=int64)"
      ]
     },
     "execution_count": 34,
     "metadata": {},
     "output_type": "execute_result"
    }
   ],
   "source": [
    "c_mat"
   ]
  },
  {
   "cell_type": "code",
   "execution_count": 35,
   "id": "d501717a",
   "metadata": {},
   "outputs": [
    {
     "data": {
      "image/png": "[encoded data removed]",
      "text/plain": [
       "<Figure size 640x480 with 2 Axes>"
      ]
     },
     "metadata": {},
     "output_type": "display_data"
    }
   ],
   "source": [
    "ax= plt.subplot()\n",
    "sns.heatmap(c_mat, annot=True, ax = ax,fmt='g',cmap='Blues'); \n",
    "ax.set_xlabel('Random Forest', fontsize=15)\n",
    "ax.xaxis.set_label_position('top') \n",
    "\n",
    "ax.set_ylabel('True', fontsize=20)\n",
    "\n",
    "plt.show()"
   ]
  },
  {
   "cell_type": "code",
   "execution_count": null,
   "id": "86bc6a65",
   "metadata": {},
   "outputs": [],
   "source": []
  },
  {
   "cell_type": "code",
   "execution_count": 74,
   "id": "99947ae4",
   "metadata": {},
   "outputs": [],
   "source": [
    "filename=\"UrbanSound8K/dog.wav\"\n",
    "sound_signal, sample_rate = librosa.load(filename, res_type='kaiser_fast') \n",
    "mfccs_features = librosa.feature.mfcc(y=sound_signal, sr=sample_rate, n_mfcc=20)\n",
    "mfccs_scaled_features = np.mean(mfccs_features.T,axis=0)"
   ]
  },
  {
   "cell_type": "code",
   "execution_count": 75,
   "id": "87519919",
   "metadata": {},
   "outputs": [],
   "source": [
    "mfccs_scaled_features = mfccs_scaled_features.reshape(1,-1)"
   ]
  },
  {
   "cell_type": "code",
   "execution_count": 76,
   "id": "7249e6b9",
   "metadata": {},
   "outputs": [
    {
     "name": "stdout",
     "output_type": "stream",
     "text": [
      "1/1 [==============================] - 0s 23ms/step\n"
     ]
    }
   ],
   "source": [
    "result_array = model.predict(mfccs_scaled_features)"
   ]
  },
  {
   "cell_type": "code",
   "execution_count": 77,
   "id": "9c1389cb",
   "metadata": {},
   "outputs": [
    {
     "name": "stdout",
     "output_type": "stream",
     "text": [
      "1/1 [==============================] - 0s 35ms/step\n"
     ]
    },
    {
     "data": {
      "text/plain": [
       "array([[3.7310584e-03, 4.6800254e-03, 1.8550515e-01, 5.2660036e-01,\n",
       "        1.6854918e-02, 9.3084481e-03, 1.7293090e-01, 1.1941316e-05,\n",
       "        5.7045944e-02, 2.3331296e-02]], dtype=float32)"
      ]
     },
     "execution_count": 77,
     "metadata": {},
     "output_type": "execute_result"
    }
   ],
   "source": [
    " model.predict(mfccs_scaled_features)"
   ]
  },
  {
   "cell_type": "code",
   "execution_count": 78,
   "id": "499183bb",
   "metadata": {
    "scrolled": true
   },
   "outputs": [
    {
     "name": "stdout",
     "output_type": "stream",
     "text": [
      "dog_bark\n"
     ]
    }
   ],
   "source": [
    "result_classes = [\"air_conditioner\",\"car_horn\",\"children_playing\",\"dog_bark\",\"drilling\", \"engine_idling\", \"gun_shot\", \"jackhammer\", \"siren\", \"street_music\"]\n",
    "\n",
    "result = np.argmax(result_array[0])\n",
    "print(result_classes[result])  "
   ]
  },
  {
   "cell_type": "code",
   "execution_count": null,
   "id": "0e48dd33",
   "metadata": {},
   "outputs": [],
   "source": []
  },
  {
   "cell_type": "code",
   "execution_count": null,
   "id": "0e3af46f",
   "metadata": {},
   "outputs": [],
   "source": []
  },
  {
   "cell_type": "code",
   "execution_count": null,
   "id": "2c4ab868",
   "metadata": {},
   "outputs": [],
   "source": []
  }
 ],
 "metadata": {
  "kernelspec": {
   "display_name": "Python 3 (ipykernel)",
   "language": "python",
   "name": "python3"
  },
  "language_info": {
   "codemirror_mode": {
    "name": "ipython",
    "version": 3
   },
   "file_extension": ".py",
   "mimetype": "text/x-python",
   "name": "python",
   "nbconvert_exporter": "python",
   "pygments_lexer": "ipython3",
   "version": "3.9.13"
  }
 },
 "nbformat": 4,
 "nbformat_minor": 5
}
